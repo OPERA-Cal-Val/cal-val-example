{
 "cells": [
  {
   "cell_type": "code",
   "execution_count": 1,
   "id": "2dfa665f",
   "metadata": {
    "ExecuteTime": {
     "end_time": "2021-12-17T00:20:55.441110Z",
     "start_time": "2021-12-17T00:20:53.870982Z"
    }
   },
   "outputs": [],
   "source": [
    "import rasterio\n",
    "from rasterio.crs import CRS\n",
    "import geopandas as gpd\n",
    "from shapely.geometry import box\n",
    "import matplotlib.pyplot as plt\n",
    "from tqdm import tqdm"
   ]
  },
  {
   "cell_type": "markdown",
   "id": "a40a4c13",
   "metadata": {},
   "source": [
    "# Generate tiles\n",
    "\n",
    "We are going to use the Hansen et al. data found [here](https://storage.googleapis.com/earthenginepartners-hansen/GFC-2020-v1.8/download.html). For actual products, this would likely be Planet data or some high resolution map that we would need for classification."
   ]
  },
  {
   "cell_type": "code",
   "execution_count": 2,
   "id": "da03d916",
   "metadata": {
    "ExecuteTime": {
     "end_time": "2021-12-17T00:20:55.457544Z",
     "start_time": "2021-12-17T00:20:55.442947Z"
    }
   },
   "outputs": [],
   "source": [
    "# box inputs are minx, miny, maxx, maxy\n",
    "geometries = [box(-180 + i * 10, \n",
    "                  80 - (j + 1) * 10, \n",
    "                  -180 + (i + 1) * 10,\n",
    "                  80 - (j) * 10) for i in range(36) for j in range(16)]\n",
    "\n",
    "# Upper left corner\n",
    "ul_corners = [(-180 + (i) * 10, 80 - (j) * 10) for i in range(36) for j in range(16)]\n",
    "\n",
    "df_hansen_tiles = gpd.GeoDataFrame(geometry=geometries, crs=CRS.from_epsg(4326))"
   ]
  },
  {
   "cell_type": "markdown",
   "id": "ec59c90a",
   "metadata": {},
   "source": [
    "Let's see the tiles."
   ]
  },
  {
   "cell_type": "code",
   "execution_count": 3,
   "id": "206220f0",
   "metadata": {
    "ExecuteTime": {
     "end_time": "2021-12-17T00:20:55.627647Z",
     "start_time": "2021-12-17T00:20:55.461803Z"
    }
   },
   "outputs": [
    {
     "data": {
      "text/plain": [
       "<AxesSubplot:>"
      ]
     },
     "execution_count": 3,
     "metadata": {},
     "output_type": "execute_result"
    },
    {
     "data": {
      "image/png": "[encoded data removed]",
      "text/plain": [
       "<Figure size 432x288 with 1 Axes>"
      ]
     },
     "metadata": {
      "needs_background": "light"
     },
     "output_type": "display_data"
    }
   ],
   "source": [
    "df_hansen_tiles.exterior.plot()"
   ]
  },
  {
   "cell_type": "code",
   "execution_count": 4,
   "id": "aa157b59",
   "metadata": {
    "ExecuteTime": {
     "end_time": "2021-12-17T00:20:55.632325Z",
     "start_time": "2021-12-17T00:20:55.629017Z"
    }
   },
   "outputs": [],
   "source": [
    "def url_generator(corner: tuple, \n",
    "                  layer: str ='last'):\n",
    "    \n",
    "    assert(layer in ['first', 'last', 'treecover2000'])\n",
    "    \n",
    "    base_url = 'https://storage.googleapis.com/earthenginepartners-hansen/GFC-2020-v1.8'\n",
    "    lon, lat = corner\n",
    "    if lon < 0:\n",
    "        lon_str = f'{abs(lon):03d}W'\n",
    "    else:\n",
    "        lon_str = f'{abs(lon):03d}E'\n",
    "    if lat >= 0:\n",
    "        lat_str = f'{abs(lat):02d}N'\n",
    "    else:\n",
    "        lat_str = f'{abs(lat):02d}S'\n",
    "    return f'{base_url}/Hansen_GFC-2020-v1.8_last_{lat_str}_{lon_str}.tif'\n"
   ]
  },
  {
   "cell_type": "code",
   "execution_count": 5,
   "id": "c627540e",
   "metadata": {
    "ExecuteTime": {
     "end_time": "2021-12-17T00:20:55.707688Z",
     "start_time": "2021-12-17T00:20:55.633815Z"
    }
   },
   "outputs": [
    {
     "data": {
      "text/html": [
       "<div>\n",
       "<style scoped>\n",
       "    .dataframe tbody tr th:only-of-type {\n",
       "        vertical-align: middle;\n",
       "    }\n",
       "\n",
       "    .dataframe tbody tr th {\n",
       "        vertical-align: top;\n",
       "    }\n",
       "\n",
       "    .dataframe thead th {\n",
       "        text-align: right;\n",
       "    }\n",
       "</style>\n",
       "<table border=\"1\" class=\"dataframe\">\n",
       "  <thead>\n",
       "    <tr style=\"text-align: right;\">\n",
       "      <th></th>\n",
       "      <th>geometry</th>\n",
       "      <th>source_url</th>\n",
       "      <th>year</th>\n",
       "      <th>bucket</th>\n",
       "      <th>key</th>\n",
       "    </tr>\n",
       "  </thead>\n",
       "  <tbody>\n",
       "    <tr>\n",
       "      <th>0</th>\n",
       "      <td>POLYGON ((-170.00000 70.00000, -170.00000 80.0...</td>\n",
       "      <td>https://storage.googleapis.com/earthenginepart...</td>\n",
       "      <td>2020</td>\n",
       "      <td>test-calval-hansen-mosaics-2020</td>\n",
       "      <td>Hansen_GFC-2020-v1.8_last_80N_180W.tif</td>\n",
       "    </tr>\n",
       "    <tr>\n",
       "      <th>1</th>\n",
       "      <td>POLYGON ((-170.00000 60.00000, -170.00000 70.0...</td>\n",
       "      <td>https://storage.googleapis.com/earthenginepart...</td>\n",
       "      <td>2020</td>\n",
       "      <td>test-calval-hansen-mosaics-2020</td>\n",
       "      <td>Hansen_GFC-2020-v1.8_last_70N_180W.tif</td>\n",
       "    </tr>\n",
       "    <tr>\n",
       "      <th>2</th>\n",
       "      <td>POLYGON ((-170.00000 50.00000, -170.00000 60.0...</td>\n",
       "      <td>https://storage.googleapis.com/earthenginepart...</td>\n",
       "      <td>2020</td>\n",
       "      <td>test-calval-hansen-mosaics-2020</td>\n",
       "      <td>Hansen_GFC-2020-v1.8_last_60N_180W.tif</td>\n",
       "    </tr>\n",
       "    <tr>\n",
       "      <th>3</th>\n",
       "      <td>POLYGON ((-170.00000 40.00000, -170.00000 50.0...</td>\n",
       "      <td>https://storage.googleapis.com/earthenginepart...</td>\n",
       "      <td>2020</td>\n",
       "      <td>test-calval-hansen-mosaics-2020</td>\n",
       "      <td>Hansen_GFC-2020-v1.8_last_50N_180W.tif</td>\n",
       "    </tr>\n",
       "    <tr>\n",
       "      <th>4</th>\n",
       "      <td>POLYGON ((-170.00000 30.00000, -170.00000 40.0...</td>\n",
       "      <td>https://storage.googleapis.com/earthenginepart...</td>\n",
       "      <td>2020</td>\n",
       "      <td>test-calval-hansen-mosaics-2020</td>\n",
       "      <td>Hansen_GFC-2020-v1.8_last_40N_180W.tif</td>\n",
       "    </tr>\n",
       "  </tbody>\n",
       "</table>\n",
       "</div>"
      ],
      "text/plain": [
       "                                            geometry  \\\n",
       "0  POLYGON ((-170.00000 70.00000, -170.00000 80.0...   \n",
       "1  POLYGON ((-170.00000 60.00000, -170.00000 70.0...   \n",
       "2  POLYGON ((-170.00000 50.00000, -170.00000 60.0...   \n",
       "3  POLYGON ((-170.00000 40.00000, -170.00000 50.0...   \n",
       "4  POLYGON ((-170.00000 30.00000, -170.00000 40.0...   \n",
       "\n",
       "                                          source_url  year  \\\n",
       "0  https://storage.googleapis.com/earthenginepart...  2020   \n",
       "1  https://storage.googleapis.com/earthenginepart...  2020   \n",
       "2  https://storage.googleapis.com/earthenginepart...  2020   \n",
       "3  https://storage.googleapis.com/earthenginepart...  2020   \n",
       "4  https://storage.googleapis.com/earthenginepart...  2020   \n",
       "\n",
       "                            bucket                                     key  \n",
       "0  test-calval-hansen-mosaics-2020  Hansen_GFC-2020-v1.8_last_80N_180W.tif  \n",
       "1  test-calval-hansen-mosaics-2020  Hansen_GFC-2020-v1.8_last_70N_180W.tif  \n",
       "2  test-calval-hansen-mosaics-2020  Hansen_GFC-2020-v1.8_last_60N_180W.tif  \n",
       "3  test-calval-hansen-mosaics-2020  Hansen_GFC-2020-v1.8_last_50N_180W.tif  \n",
       "4  test-calval-hansen-mosaics-2020  Hansen_GFC-2020-v1.8_last_40N_180W.tif  "
      ]
     },
     "execution_count": 5,
     "metadata": {},
     "output_type": "execute_result"
    }
   ],
   "source": [
    "df_hansen_tiles['source_url'] = list(map(url_generator, ul_corners))\n",
    "df_hansen_tiles['year'] = 2020\n",
    "df_hansen_tiles['bucket'] = 'test-calval-hansen-mosaics-2020'\n",
    "df_hansen_tiles['key'] = df_hansen_tiles.source_url.map(lambda x: x.split('/')[-1])\n",
    "\n",
    "df_hansen_tiles.head()"
   ]
  },
  {
   "cell_type": "markdown",
   "id": "4ffa1ea2",
   "metadata": {},
   "source": [
    "Let's read the bounds from the URLs and make sure they match."
   ]
  },
  {
   "cell_type": "code",
   "execution_count": 6,
   "id": "9c12fa65",
   "metadata": {
    "ExecuteTime": {
     "end_time": "2021-12-17T00:20:56.702816Z",
     "start_time": "2021-12-17T00:20:55.709300Z"
    }
   },
   "outputs": [
    {
     "name": "stdout",
     "output_type": "stream",
     "text": [
      "BoundingBox(left=-180.0001388888889, bottom=69.9998611111111, right=-169.99986111111113, top=80.00013888888888)\n",
      "https://storage.googleapis.com/earthenginepartners-hansen/GFC-2020-v1.8/Hansen_GFC-2020-v1.8_last_80N_180W.tif\n"
     ]
    }
   ],
   "source": [
    "url = df_hansen_tiles.source_url[0]\n",
    "with rasterio.open(url) as ds:\n",
    "    print(ds.bounds)\n",
    "    print(url)"
   ]
  },
  {
   "cell_type": "markdown",
   "id": "89508327",
   "metadata": {
    "ExecuteTime": {
     "end_time": "2021-12-16T19:12:55.401804Z",
     "start_time": "2021-12-16T19:12:55.399830Z"
    }
   },
   "source": [
    "# Get Tiles over AOIs"
   ]
  },
  {
   "cell_type": "code",
   "execution_count": 7,
   "id": "9841034c",
   "metadata": {
    "ExecuteTime": {
     "end_time": "2021-12-17T00:20:56.720684Z",
     "start_time": "2021-12-17T00:20:56.704526Z"
    }
   },
   "outputs": [],
   "source": [
    "aois = gpd.read_file('aois')\n",
    "aois_geo = aois.geometry.unary_union"
   ]
  },
  {
   "cell_type": "code",
   "execution_count": 8,
   "id": "c5371217",
   "metadata": {
    "ExecuteTime": {
     "end_time": "2021-12-17T00:20:56.843242Z",
     "start_time": "2021-12-17T00:20:56.722136Z"
    }
   },
   "outputs": [
    {
     "data": {
      "text/plain": [
       "<AxesSubplot:>"
      ]
     },
     "execution_count": 8,
     "metadata": {},
     "output_type": "execute_result"
    },
    {
     "data": {
      "image/png": "[encoded data removed]",
      "text/plain": [
       "<Figure size 432x288 with 1 Axes>"
      ]
     },
     "metadata": {
      "needs_background": "light"
     },
     "output_type": "display_data"
    }
   ],
   "source": [
    "fig, ax = plt.subplots()\n",
    "\n",
    "df_hansen_deltas = df_hansen_tiles[df_hansen_tiles.geometry.intersects(aois_geo)].reset_index(drop=True)\n",
    "\n",
    "df_hansen_deltas.plot(ax = ax, alpha=.1)\n",
    "aois.plot(ax=ax)"
   ]
  },
  {
   "cell_type": "code",
   "execution_count": 9,
   "id": "31716d8f",
   "metadata": {
    "ExecuteTime": {
     "end_time": "2021-12-17T00:20:56.853115Z",
     "start_time": "2021-12-17T00:20:56.846509Z"
    }
   },
   "outputs": [
    {
     "data": {
      "text/html": [
       "<div>\n",
       "<style scoped>\n",
       "    .dataframe tbody tr th:only-of-type {\n",
       "        vertical-align: middle;\n",
       "    }\n",
       "\n",
       "    .dataframe tbody tr th {\n",
       "        vertical-align: top;\n",
       "    }\n",
       "\n",
       "    .dataframe thead th {\n",
       "        text-align: right;\n",
       "    }\n",
       "</style>\n",
       "<table border=\"1\" class=\"dataframe\">\n",
       "  <thead>\n",
       "    <tr style=\"text-align: right;\">\n",
       "      <th></th>\n",
       "      <th>geometry</th>\n",
       "      <th>source_url</th>\n",
       "      <th>year</th>\n",
       "      <th>bucket</th>\n",
       "      <th>key</th>\n",
       "    </tr>\n",
       "  </thead>\n",
       "  <tbody>\n",
       "    <tr>\n",
       "      <th>0</th>\n",
       "      <td>POLYGON ((-90.00000 20.00000, -90.00000 30.000...</td>\n",
       "      <td>https://storage.googleapis.com/earthenginepart...</td>\n",
       "      <td>2020</td>\n",
       "      <td>test-calval-hansen-mosaics-2020</td>\n",
       "      <td>Hansen_GFC-2020-v1.8_last_30N_100W.tif</td>\n",
       "    </tr>\n",
       "    <tr>\n",
       "      <th>1</th>\n",
       "      <td>POLYGON ((-80.00000 30.00000, -80.00000 40.000...</td>\n",
       "      <td>https://storage.googleapis.com/earthenginepart...</td>\n",
       "      <td>2020</td>\n",
       "      <td>test-calval-hansen-mosaics-2020</td>\n",
       "      <td>Hansen_GFC-2020-v1.8_last_40N_090W.tif</td>\n",
       "    </tr>\n",
       "  </tbody>\n",
       "</table>\n",
       "</div>"
      ],
      "text/plain": [
       "                                            geometry  \\\n",
       "0  POLYGON ((-90.00000 20.00000, -90.00000 30.000...   \n",
       "1  POLYGON ((-80.00000 30.00000, -80.00000 40.000...   \n",
       "\n",
       "                                          source_url  year  \\\n",
       "0  https://storage.googleapis.com/earthenginepart...  2020   \n",
       "1  https://storage.googleapis.com/earthenginepart...  2020   \n",
       "\n",
       "                            bucket                                     key  \n",
       "0  test-calval-hansen-mosaics-2020  Hansen_GFC-2020-v1.8_last_30N_100W.tif  \n",
       "1  test-calval-hansen-mosaics-2020  Hansen_GFC-2020-v1.8_last_40N_090W.tif  "
      ]
     },
     "execution_count": 9,
     "metadata": {},
     "output_type": "execute_result"
    }
   ],
   "source": [
    "df_hansen_deltas"
   ]
  },
  {
   "cell_type": "markdown",
   "id": "55bc8c72",
   "metadata": {},
   "source": [
    "# Upload Tile Index to s3\n",
    "\n",
    "References from Stackoverflow:\n",
    "+ [How to connect to s3](https://stackoverflow.com/a/40336919) - there are two ways\n",
    "+ [Upload json to s3](https://stackoverflow.com/a/53004085)"
   ]
  },
  {
   "cell_type": "code",
   "execution_count": 10,
   "id": "f0e9730b",
   "metadata": {
    "ExecuteTime": {
     "end_time": "2021-12-17T00:20:56.860121Z",
     "start_time": "2021-12-17T00:20:56.854584Z"
    }
   },
   "outputs": [
    {
     "data": {
      "text/plain": [
       "b'{\"type\": \"FeatureCollection\", \"features\": [{\"type\": \"Feature\", \"properties\": {\"bucket\": \"test-calval-hansen-mosaics-2020\", \"key\": \"Hansen_GFC-2020-v1.8_last_30N_100W.tif\", \"source_url\": \"https://storage.googleapis.com/earthenginepartners-hansen/GFC-2020-v1.8/Hansen_GFC-2020-v1.8_last_30N_100W.tif\", \"year\": 2020}, \"geometry\": {\"type\": \"Polygon\", \"coordinates\": [[[-90.0, 20.0], [-90.0, 30.0], [-100.0, 30.0], [-100.0, 20.0], [-90.0, 20.0]]]}}, {\"type\": \"Feature\", \"properties\": {\"bucket\": \"test-calval-hansen-mosaics-2020\", \"key\": \"Hansen_GFC-2020-v1.8_last_40N_090W.tif\", \"source_url\": \"https://storage.googleapis.com/earthenginepartners-hansen/GFC-2020-v1.8/Hansen_GFC-2020-v1.8_last_40N_090W.tif\", \"year\": 2020}, \"geometry\": {\"type\": \"Polygon\", \"coordinates\": [[[-80.0, 30.0], [-80.0, 40.0], [-90.0, 40.0], [-90.0, 30.0], [-80.0, 30.0]]]}}]}'"
      ]
     },
     "execution_count": 10,
     "metadata": {},
     "output_type": "execute_result"
    }
   ],
   "source": [
    "geojson_bytes = bytes(df_hansen_deltas.to_json(drop_id=True).encode('UTF-8'))\n",
    "geojson_bytes"
   ]
  },
  {
   "cell_type": "code",
   "execution_count": 11,
   "id": "07939e69",
   "metadata": {
    "ExecuteTime": {
     "end_time": "2021-12-17T00:20:57.491798Z",
     "start_time": "2021-12-17T00:20:56.861557Z"
    }
   },
   "outputs": [
    {
     "data": {
      "text/plain": [
       "{'ResponseMetadata': {'RequestId': '95NMB5QX62BZHHNK',\n",
       "  'HostId': 'ModMs3o6Zaujt+cxt+bRPQGpa/1Hmp7JA5yqiLVtSZ6TsQRh5bNp8m6Zf6FXfAqQpOxAQSjlnS4=',\n",
       "  'HTTPStatusCode': 200,\n",
       "  'HTTPHeaders': {'x-amz-id-2': 'ModMs3o6Zaujt+cxt+bRPQGpa/1Hmp7JA5yqiLVtSZ6TsQRh5bNp8m6Zf6FXfAqQpOxAQSjlnS4=',\n",
       "   'x-amz-request-id': '95NMB5QX62BZHHNK',\n",
       "   'date': 'Fri, 17 Dec 2021 00:20:58 GMT',\n",
       "   'etag': '\"52a1e9c4d64a172ee02c47da3bf63dea\"',\n",
       "   'server': 'AmazonS3',\n",
       "   'content-length': '0'},\n",
       "  'RetryAttempts': 0},\n",
       " 'ETag': '\"52a1e9c4d64a172ee02c47da3bf63dea\"'}"
      ]
     },
     "execution_count": 11,
     "metadata": {},
     "output_type": "execute_result"
    }
   ],
   "source": [
    "import boto3\n",
    "\n",
    "\n",
    "session = boto3.session.Session(profile_name='saml-pub')\n",
    "\n",
    "s3 = session.resource('s3')\n",
    "s3object = s3.Object('calval-metadata', 'test-hansen-landsat.geojson')\n",
    "s3object.put(Body=geojson_bytes)"
   ]
  },
  {
   "cell_type": "markdown",
   "id": "2ebf4a97",
   "metadata": {},
   "source": [
    "# Read Geojson on S3\n",
    "\n",
    "Show existing buckets"
   ]
  },
  {
   "cell_type": "code",
   "execution_count": 12,
   "id": "363a6069",
   "metadata": {
    "ExecuteTime": {
     "end_time": "2021-12-17T00:20:58.077005Z",
     "start_time": "2021-12-17T00:20:57.493422Z"
    }
   },
   "outputs": [],
   "source": [
    "buckets = list(s3.buckets.all())"
   ]
  },
  {
   "cell_type": "markdown",
   "id": "fa6fad98",
   "metadata": {},
   "source": [
    "Let's inspect the bucket contents."
   ]
  },
  {
   "cell_type": "code",
   "execution_count": 13,
   "id": "4abfb290",
   "metadata": {
    "ExecuteTime": {
     "end_time": "2021-12-17T00:20:58.298256Z",
     "start_time": "2021-12-17T00:20:58.078633Z"
    }
   },
   "outputs": [
    {
     "data": {
      "text/plain": [
       "[s3.ObjectSummary(bucket_name='calval-metadata', key='test-hansen-landsat.geojson')]"
      ]
     },
     "execution_count": 13,
     "metadata": {},
     "output_type": "execute_result"
    }
   ],
   "source": [
    "metadata_bucket = s3.Bucket('calval-metadata')\n",
    "list(metadata_bucket.objects.all())"
   ]
  },
  {
   "cell_type": "markdown",
   "id": "2439d6f1",
   "metadata": {},
   "source": [
    "Read the actual dataframe."
   ]
  },
  {
   "cell_type": "code",
   "execution_count": 14,
   "id": "b916767d",
   "metadata": {
    "ExecuteTime": {
     "end_time": "2021-12-17T00:20:58.368814Z",
     "start_time": "2021-12-17T00:20:58.299640Z"
    }
   },
   "outputs": [
    {
     "data": {
      "text/plain": [
       "{'ResponseMetadata': {'RequestId': 'X9SF0EW0QY1D01CK',\n",
       "  'HostId': 'PuULn3nkxSZr1o7LHyMfmENzAcnjJn2wAetJMsJwTeUX4L9fVSOcIR34zZyEkmWghJHpxbo2HSw=',\n",
       "  'HTTPStatusCode': 200,\n",
       "  'HTTPHeaders': {'x-amz-id-2': 'PuULn3nkxSZr1o7LHyMfmENzAcnjJn2wAetJMsJwTeUX4L9fVSOcIR34zZyEkmWghJHpxbo2HSw=',\n",
       "   'x-amz-request-id': 'X9SF0EW0QY1D01CK',\n",
       "   'date': 'Fri, 17 Dec 2021 00:20:59 GMT',\n",
       "   'last-modified': 'Fri, 17 Dec 2021 00:20:58 GMT',\n",
       "   'etag': '\"52a1e9c4d64a172ee02c47da3bf63dea\"',\n",
       "   'accept-ranges': 'bytes',\n",
       "   'content-type': 'binary/octet-stream',\n",
       "   'server': 'AmazonS3',\n",
       "   'content-length': '845'},\n",
       "  'RetryAttempts': 0},\n",
       " 'AcceptRanges': 'bytes',\n",
       " 'LastModified': datetime.datetime(2021, 12, 17, 0, 20, 58, tzinfo=tzutc()),\n",
       " 'ContentLength': 845,\n",
       " 'ETag': '\"52a1e9c4d64a172ee02c47da3bf63dea\"',\n",
       " 'ContentType': 'binary/octet-stream',\n",
       " 'Metadata': {},\n",
       " 'Body': <botocore.response.StreamingBody at 0x1d3cbf490>}"
      ]
     },
     "execution_count": 14,
     "metadata": {},
     "output_type": "execute_result"
    }
   ],
   "source": [
    "obj = s3.Object('calval-metadata', 'test-hansen-landsat.geojson')\n",
    "obj.get()"
   ]
  },
  {
   "cell_type": "code",
   "execution_count": 15,
   "id": "997e1370",
   "metadata": {
    "ExecuteTime": {
     "end_time": "2021-12-17T00:20:58.638727Z",
     "start_time": "2021-12-17T00:20:58.370028Z"
    }
   },
   "outputs": [
    {
     "data": {
      "text/html": [
       "<div>\n",
       "<style scoped>\n",
       "    .dataframe tbody tr th:only-of-type {\n",
       "        vertical-align: middle;\n",
       "    }\n",
       "\n",
       "    .dataframe tbody tr th {\n",
       "        vertical-align: top;\n",
       "    }\n",
       "\n",
       "    .dataframe thead th {\n",
       "        text-align: right;\n",
       "    }\n",
       "</style>\n",
       "<table border=\"1\" class=\"dataframe\">\n",
       "  <thead>\n",
       "    <tr style=\"text-align: right;\">\n",
       "      <th></th>\n",
       "      <th>bucket</th>\n",
       "      <th>key</th>\n",
       "      <th>source_url</th>\n",
       "      <th>year</th>\n",
       "      <th>geometry</th>\n",
       "    </tr>\n",
       "  </thead>\n",
       "  <tbody>\n",
       "    <tr>\n",
       "      <th>0</th>\n",
       "      <td>test-calval-hansen-mosaics-2020</td>\n",
       "      <td>Hansen_GFC-2020-v1.8_last_30N_100W.tif</td>\n",
       "      <td>https://storage.googleapis.com/earthenginepart...</td>\n",
       "      <td>2020</td>\n",
       "      <td>POLYGON ((-90.00000 20.00000, -90.00000 30.000...</td>\n",
       "    </tr>\n",
       "    <tr>\n",
       "      <th>1</th>\n",
       "      <td>test-calval-hansen-mosaics-2020</td>\n",
       "      <td>Hansen_GFC-2020-v1.8_last_40N_090W.tif</td>\n",
       "      <td>https://storage.googleapis.com/earthenginepart...</td>\n",
       "      <td>2020</td>\n",
       "      <td>POLYGON ((-80.00000 30.00000, -80.00000 40.000...</td>\n",
       "    </tr>\n",
       "  </tbody>\n",
       "</table>\n",
       "</div>"
      ],
      "text/plain": [
       "                            bucket                                     key  \\\n",
       "0  test-calval-hansen-mosaics-2020  Hansen_GFC-2020-v1.8_last_30N_100W.tif   \n",
       "1  test-calval-hansen-mosaics-2020  Hansen_GFC-2020-v1.8_last_40N_090W.tif   \n",
       "\n",
       "                                          source_url  year  \\\n",
       "0  https://storage.googleapis.com/earthenginepart...  2020   \n",
       "1  https://storage.googleapis.com/earthenginepart...  2020   \n",
       "\n",
       "                                            geometry  \n",
       "0  POLYGON ((-90.00000 20.00000, -90.00000 30.000...  \n",
       "1  POLYGON ((-80.00000 30.00000, -80.00000 40.000...  "
      ]
     },
     "execution_count": 15,
     "metadata": {},
     "output_type": "execute_result"
    }
   ],
   "source": [
    "data = obj.get()['Body']\n",
    "gpd.read_file(data)"
   ]
  },
  {
   "cell_type": "markdown",
   "id": "cb7dff22",
   "metadata": {},
   "source": [
    "# Upload to Mosaics to s3 (this takes a *long* time)\n",
    "\n",
    "The buckets have to be unique globally - interesting that this is harder than it seems and will throw an [error](https://stackoverflow.com/q/57146311) like this."
   ]
  },
  {
   "cell_type": "code",
   "execution_count": 16,
   "id": "4bd87435",
   "metadata": {
    "ExecuteTime": {
     "end_time": "2021-12-17T00:20:58.642876Z",
     "start_time": "2021-12-17T00:20:58.640321Z"
    }
   },
   "outputs": [],
   "source": [
    "bucket_name = df_hansen_deltas.bucket[0]\n",
    "if bucket_name not in [b.name for b in buckets]:\n",
    "    s3.Bucket(bucket_name).create(CreateBucketConfiguration={'LocationConstraint': 'us-west-2'})"
   ]
  },
  {
   "cell_type": "code",
   "execution_count": 18,
   "id": "e1380d4d",
   "metadata": {
    "ExecuteTime": {
     "end_time": "2021-12-17T00:22:08.069408Z",
     "start_time": "2021-12-17T00:22:08.066392Z"
    }
   },
   "outputs": [],
   "source": [
    "records = df_hansen_deltas.to_dict('records')"
   ]
  },
  {
   "cell_type": "code",
   "execution_count": 19,
   "id": "ae56308a",
   "metadata": {
    "ExecuteTime": {
     "end_time": "2021-12-17T00:22:09.188548Z",
     "start_time": "2021-12-17T00:22:09.186077Z"
    }
   },
   "outputs": [],
   "source": [
    "record = records[0]"
   ]
  },
  {
   "cell_type": "code",
   "execution_count": null,
   "id": "06bcb5c4",
   "metadata": {
    "ExecuteTime": {
     "start_time": "2021-12-17T00:22:10.776Z"
    }
   },
   "outputs": [],
   "source": [
    "import requests\n",
    "\n",
    "r = requests.get(record['source_url'], stream=True)\n",
    "\n",
    "\n",
    "bucket_name = record['bucket']\n",
    "key = record['key']\n",
    "\n",
    "bucket = s3.Bucket(bucket_name)\n",
    "bucket.upload_fileobj(r.raw, key)"
   ]
  },
  {
   "cell_type": "markdown",
   "id": "07a67b0e",
   "metadata": {
    "ExecuteTime": {
     "end_time": "2021-12-17T00:20:58.850410Z",
     "start_time": "2021-12-17T00:20:58.850393Z"
    }
   },
   "source": [
    "Source of the function below: https://stackoverflow.com/questions/14346065/upload-image-available-at-public-url-to-s3-using-boto"
   ]
  },
  {
   "cell_type": "code",
   "execution_count": null,
   "id": "5bfe520a",
   "metadata": {
    "ExecuteTime": {
     "start_time": "2021-12-17T00:22:12.456Z"
    }
   },
   "outputs": [],
   "source": [
    "def upload_one(record):\n",
    "    r = requests.get(record['source_url'], stream=True)\n",
    "\n",
    "    bucket_name = record['bucket']\n",
    "    key = record['key']\n",
    "\n",
    "    bucket = s3.Bucket(bucket_name)\n",
    "    response = bucket.upload_fileobj(r.raw, key)\n",
    "    \n",
    "    return response"
   ]
  },
  {
   "cell_type": "code",
   "execution_count": null,
   "id": "860a3f46",
   "metadata": {
    "ExecuteTime": {
     "start_time": "2021-12-17T00:22:12.904Z"
    }
   },
   "outputs": [],
   "source": [
    "list(map(upload_one, tqdm(records)))"
   ]
  },
  {
   "cell_type": "markdown",
   "id": "613321a0",
   "metadata": {},
   "source": [
    "# Notes\n",
    "\n",
    "+ S3 objects can be overwritten without problem. However, buckets cannot. So you cannot create a bucket that already exists, but you can easily overwrite an existing object"
   ]
  },
  {
   "cell_type": "markdown",
   "id": "898bca48",
   "metadata": {},
   "source": [
    "# Appendix\n",
    "\n",
    "I initially used rasterio, but it was much slower. Keeping it here for reference. Probably because the memory file writing was unecessary.\n",
    "\n",
    "References:\n",
    "\n",
    "+ [rasterio mem files with a post](https://rasterio.readthedocs.io/en/latest/topics/memory-files.html#reading-memoryfiles)\n",
    "+ [write s3 using rasterio](https://github.com/rasterio/rasterio/issues/1159#issuecomment-532027616)"
   ]
  },
  {
   "cell_type": "code",
   "execution_count": null,
   "id": "2d500a70",
   "metadata": {
    "ExecuteTime": {
     "start_time": "2021-12-17T00:24:21.622Z"
    }
   },
   "outputs": [],
   "source": [
    "from rasterio.io import MemoryFile\n",
    "\n",
    "def upload_one_slow(record):\n",
    "    with rasterio.open(record['source_url']) as ds:\n",
    "        src_profile = ds.profile\n",
    "        src_array = ds.read()\n",
    "    with MemoryFile() as memfile:\n",
    "        with memfile.open(**src_profile) as dataset:\n",
    "            dataset.write(src_array)\n",
    "\n",
    "        s3ob = s3.Object(record['bucket'], record['key'])\n",
    "        s3ob.put(Body=memfile)"
   ]
  }
 ],
 "metadata": {
  "kernelspec": {
   "display_name": "calval_env",
   "language": "python",
   "name": "calval_env"
  },
  "language_info": {
   "codemirror_mode": {
    "name": "ipython",
    "version": 3
   },
   "file_extension": ".py",
   "mimetype": "text/x-python",
   "name": "python",
   "nbconvert_exporter": "python",
   "pygments_lexer": "ipython3",
   "version": "3.10.0"
  }
 },
 "nbformat": 4,
 "nbformat_minor": 5
}
